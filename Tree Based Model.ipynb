{
 "cells": [
  {
   "cell_type": "code",
   "execution_count": 2,
   "metadata": {},
   "outputs": [],
   "source": [
    "#from future_import_print_function\n",
    "#sample dataset\n",
    "# Format :each row in an example\n",
    "# The last cloumn in label\n",
    "# The first two columns are features\n",
    "# if we want we can add more features and examples "
   ]
  },
  {
   "cell_type": "code",
   "execution_count": 3,
   "metadata": {},
   "outputs": [],
   "source": [
    "#Lets see how tree handle this case"
   ]
  },
  {
   "cell_type": "code",
   "execution_count": 4,
   "metadata": {},
   "outputs": [],
   "source": [
    "training_data = [['Green' ,3,'Mango'],\n",
    "                ['Yellow ',3,'Mango'],\n",
    "                ['Red' ,1 ,'Grape'],\n",
    "                ['Red' ,1,'Grape'],\n",
    "                ['Yellow' ,3 ,'Lemon']\n",
    "                ]\n",
    "\n"
   ]
  },
  {
   "cell_type": "code",
   "execution_count": 5,
   "metadata": {},
   "outputs": [],
   "source": [
    "#The column Lablels"
   ]
  },
  {
   "cell_type": "code",
   "execution_count": 6,
   "metadata": {},
   "outputs": [],
   "source": [
    "#The are only used to print the tree"
   ]
  },
  {
   "cell_type": "code",
   "execution_count": 7,
   "metadata": {},
   "outputs": [],
   "source": [
    "header = [\"color\",\"diameter\",\"label\"]"
   ]
  },
  {
   "cell_type": "code",
   "execution_count": 19,
   "metadata": {},
   "outputs": [],
   "source": [
    "def unique_vals(rows ,cols):\n",
    "    \"\"\"Find the unique values in a dataset.\"\"\"\n",
    "    return set([row[col] for row in rows])"
   ]
  },
  {
   "cell_type": "code",
   "execution_count": 9,
   "metadata": {},
   "outputs": [],
   "source": [
    "#### Demo\n",
    "# Unique-vals(training-data ,0)\n",
    "#Unique-vals(training -data ,1)"
   ]
  },
  {
   "cell_type": "code",
   "execution_count": 10,
   "metadata": {},
   "outputs": [],
   "source": [
    "def class_counts(rows):\n",
    "    \"\"\"Counts the numbers of each type of example in a dataset\"\"\"\n",
    "    counts = {} # a dictionary of label ->count\n",
    "    for row in rows:\n",
    "        #in our dataset format the label is always the last coumn\n",
    "        label = row[-1]\n",
    "        if label not in counts:\n",
    "            count[label]=0\n",
    "            counts[label] += 1\n",
    "    return counts"
   ]
  },
  {
   "cell_type": "code",
   "execution_count": 11,
   "metadata": {},
   "outputs": [],
   "source": [
    "######\n",
    "#Demo"
   ]
  },
  {
   "cell_type": "code",
   "execution_count": 12,
   "metadata": {},
   "outputs": [],
   "source": [
    "#class_counts(training-data)"
   ]
  },
  {
   "cell_type": "code",
   "execution_count": 13,
   "metadata": {},
   "outputs": [],
   "source": [
    "####"
   ]
  },
  {
   "cell_type": "code",
   "execution_count": 15,
   "metadata": {},
   "outputs": [],
   "source": [
    "def is_numeric(value):\n",
    "    \"\"\"Test id a vslue is numeric\"\"\"\n",
    "    return isinstance(value ,int) or isinstance(value ,float)"
   ]
  },
  {
   "cell_type": "code",
   "execution_count": 16,
   "metadata": {},
   "outputs": [],
   "source": [
    "####"
   ]
  },
  {
   "cell_type": "code",
   "execution_count": 17,
   "metadata": {},
   "outputs": [],
   "source": [
    "#Demo"
   ]
  },
  {
   "cell_type": "code",
   "execution_count": 18,
   "metadata": {},
   "outputs": [],
   "source": [
    "#is_numeric(7)\n",
    "# is -numeric(\"Red\")"
   ]
  },
  {
   "cell_type": "code",
   "execution_count": 20,
   "metadata": {},
   "outputs": [],
   "source": [
    "####"
   ]
  },
  {
   "cell_type": "code",
   "execution_count": 24,
   "metadata": {},
   "outputs": [],
   "source": [
    "class Question:\n",
    "    \"\"\"A Question is used to partition a dataset .This class just record a 'a column number'(e.g 0 for color) ad a 'column value\n",
    "    (e.g ,Green)' .The 'match' method is used to compare the feature value in an example to the features value stored in the question \n",
    "    .See the demp below\n",
    "    \"\"\"\n",
    "    def __init__(self ,column ,value):\n",
    "        self.column = column\n",
    "        self.value = value\n",
    "        \n",
    "    def match(slef ,example):\n",
    "        #Compare the feature vlaue in an example to the \n",
    "        #feature value in this question\n",
    "        val = example[self.column]\n",
    "        if is_numeric(val):\n",
    "            return val>=slef.value\n",
    "        else:\n",
    "            return val==self.value\n",
    "    def __repr__(self):\n",
    "        #THis is just a helper method tp point\n",
    "        #This is question in readable format\n",
    "        condition=\"==\"\n",
    "        if is_numeric(self.value):\n",
    "            condition=\">=\"\n",
    "            return \"IS %s ,%s,%s?\" %(header[self.column],condition ,str(self.value))\n",
    "    def partition(rows ,question):\n",
    "        \"\"\"Partitions a dataset\n",
    "        For each row in the datset ,check if it matches the qustions .if so add it tot \"true rows ,otherwise ,add \n",
    "        it to false rows\n",
    "        \"\"\"\n",
    "        true_rows ,false_rows = [],[]\n",
    "        for row in rows:\n",
    "            if question.match(row):\n",
    "                true_rows.append(row)\n",
    "            else:\n",
    "                false_row.append(row)\n",
    "            return tru_rows ,false_rows"
   ]
  },
  {
   "cell_type": "code",
   "execution_count": null,
   "metadata": {},
   "outputs": [],
   "source": []
  }
 ],
 "metadata": {
  "kernelspec": {
   "display_name": "python 3.6(tensorflow)",
   "language": "python",
   "name": "tensorflow"
  },
  "language_info": {
   "codemirror_mode": {
    "name": "ipython",
    "version": 3
   },
   "file_extension": ".py",
   "mimetype": "text/x-python",
   "name": "python",
   "nbconvert_exporter": "python",
   "pygments_lexer": "ipython3",
   "version": "3.6.10"
  }
 },
 "nbformat": 4,
 "nbformat_minor": 4
}
