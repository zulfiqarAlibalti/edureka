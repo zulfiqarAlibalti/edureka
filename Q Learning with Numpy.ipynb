{
 "cells": [
  {
   "cell_type": "code",
   "execution_count": 1,
   "metadata": {},
   "outputs": [],
   "source": [
    "# Only Numpy\n",
    "# Initialze parameters\n",
    "gamma = 0.75 #Discount factor\n",
    "alpha = 0.9 #learning rate"
   ]
  },
  {
   "cell_type": "code",
   "execution_count": 2,
   "metadata": {},
   "outputs": [],
   "source": [
    "#Define the state\n",
    "location_to_state={\n",
    "    'L1':0,\n",
    "    'L2':1,\n",
    "    'L3':2,\n",
    "    'L4':3,\n",
    "    'L5':4,\n",
    "    'L6':5,\n",
    "    'L7':6,\n",
    "    'L8':7,\n",
    "    'L9':8,\n",
    "    \n",
    "}"
   ]
  },
  {
   "cell_type": "code",
   "execution_count": 3,
   "metadata": {},
   "outputs": [],
   "source": [
    "#Define the actions"
   ]
  },
  {
   "cell_type": "code",
   "execution_count": 4,
   "metadata": {},
   "outputs": [],
   "source": [
    "actions = [0,1,2,3,4,5,6,7,8]"
   ]
  },
  {
   "cell_type": "code",
   "execution_count": 32,
   "metadata": {},
   "outputs": [],
   "source": [
    "#Define the reward\n",
    "rewards = ([\n",
    "    [0,1,0,0,0,0,0,0,0],\n",
    "    [1,0,1,0,0,0,0,0,0],\n",
    "    [0,1,0,0,0,0,0,0,0],\n",
    "    [0,0,0,0,0,1,0,0,0],\n",
    "    [0,1,0,0,0,0,1,0,0],\n",
    "    [0,0,1,0,0,0,0,0,0],\n",
    "    [0,0,1,0,0,0,0,0,0],\n",
    "    [0,0,0,0,1,0,0,0,0],\n",
    "    [0,1,0,0,0,0,0,1,0],\n",
    "    \n",
    "])"
   ]
  },
  {
   "cell_type": "code",
   "execution_count": 36,
   "metadata": {},
   "outputs": [],
   "source": [
    "# Maps indices to locations\n",
    "state_to_location=dict((state,location) for location,state in location_to_state.items())"
   ]
  },
  {
   "cell_type": "code",
   "execution_count": 37,
   "metadata": {},
   "outputs": [],
   "source": [
    "import numpy as np"
   ]
  },
  {
   "cell_type": "code",
   "execution_count": 40,
   "metadata": {},
   "outputs": [],
   "source": [
    "def get_optimal_route(start_location,end_location):\n",
    "    #copy  the reward metrix to new matrix\n",
    "    rewards_new = np.copy(rewards)\n",
    "    # Get the ending state corresponing to the ending location given as \n",
    "    ending_state = location_to_state[end_location]\n",
    "    #With the above infromation automatically set the priorty of the ending state to the heighest one\n",
    "    rewards_new[ending_state,ending_state]=999\n",
    "    #----------------------- Q -Learning Algorithm--------------------------------\n",
    "    #Initialize Q -learning\n",
    "    Q = np.array(np.zeros([9,9]))\n",
    "    #Q-learning process\n",
    "    for i in range(1000):\n",
    "        # Pick up a state randomly\n",
    "        current_state =np.random.randint(0,9) #Python exclude th upper bound\n",
    "        #For traveling through the neighbor locaion in the maze \n",
    "        playable_actions =[]\n",
    "        #Iterate through the row reward matrix and get the action >0\n",
    "        for j in range(9):\n",
    "            if rewards_new[current_state,j]>0:\n",
    "                playable_actions.append(j)\n",
    "        #Pick an action randomly from the list of playable actions leading is to the enxt state\n",
    "        next_state = np.random.choice(playable_actions)\n",
    "        # Compute the temporal difference\n",
    "     # The actions here exactly refers to going to the next sate\n",
    "        TD = rewards_new[current_state,next_state]+gamma*Q[next_state,np.argmax(Q[next_state,])]-Q[current_state,next_state]\n",
    "     #Update ther Q -value uisng the Bellmann Equation\n",
    "        Q[current_state,next_state]+=alpha*TD\n",
    "    #Initilaize the optimal route with starting lcation\n",
    "    route = [start_location]\n",
    "            #We do not konw about the next location yet,so initialize  wiht value of starting location\n",
    "    next_location = start_location\n",
    "            # We don't know about the exact number of iteration needed to reach to the final \n",
    "            #loation .Hence while loop will be good choice\n",
    "    while (next_location!=end_location):\n",
    "        #Fetch the starting state\n",
    "        starting_state =location_to_state[start_location]\n",
    "        # Fetch the higheet Q -Value pertaining to starting state\n",
    "        next_state = np.argmax(Q[starting_state,])\n",
    "        # We got the index of the next state ,But ewe need the current location\n",
    "        next_location = state_to_location[next_state]\n",
    "        route.append(next_location)\n",
    "        # update the starting location for the next Iteration\n",
    "        start_location = next_location\n",
    "    return route\n",
    "            \n",
    "        "
   ]
  },
  {
   "cell_type": "code",
   "execution_count": 42,
   "metadata": {},
   "outputs": [
    {
     "name": "stdout",
     "output_type": "stream",
     "text": [
      "['L9', 'L2', 'L1']\n"
     ]
    }
   ],
   "source": [
    "print(get_optimal_route('L9','L1'))"
   ]
  },
  {
   "cell_type": "code",
   "execution_count": null,
   "metadata": {},
   "outputs": [],
   "source": []
  }
 ],
 "metadata": {
  "kernelspec": {
   "display_name": "python 3.6(tensorflow)",
   "language": "python",
   "name": "tensorflow"
  },
  "language_info": {
   "codemirror_mode": {
    "name": "ipython",
    "version": 3
   },
   "file_extension": ".py",
   "mimetype": "text/x-python",
   "name": "python",
   "nbconvert_exporter": "python",
   "pygments_lexer": "ipython3",
   "version": "3.6.10"
  }
 },
 "nbformat": 4,
 "nbformat_minor": 4
}
